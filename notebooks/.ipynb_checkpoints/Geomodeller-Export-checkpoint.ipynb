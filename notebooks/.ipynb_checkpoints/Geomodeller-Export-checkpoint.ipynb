{
 "metadata": {
  "name": "",
  "signature": "sha256:694ab23395daa034194ef707cfca1ad6f1464824c3b84acb091c7db35a305361"
 },
 "nbformat": 3,
 "nbformat_minor": 0,
 "worksheets": [
  {
   "cells": [
    {
     "cell_type": "markdown",
     "metadata": {},
     "source": [
      "Creating an irregular mesh from Geomodeller for SHEMAT simulations\n",
      "===========\n",
      "\n",
      "Regular meshes can be exported directly from within the Geomodeller GUI. However, in many cases, a more flexible solution is required, for example to:\n",
      "\n",
      "- update a mesh automatically (without using the GUI), or\n",
      "- create an irregular mesh with refined regions\n",
      "\n",
      "These steps can easily be performed with a set of Python scripts and C programs that access Geomodellers funcionality through the API. \n",
      "\n",
      "The main funcionality required here is combined in the Python package `pygeomod`. Two main packages are required: `geogrid.py` is the most recent development and contains a (relatively general) class definition for rectangular grids in general, with the link to Geomodeller in particular. The package \u00b4geomodeller_xml_obj.py` contains methods to access and modify information stored in the Geomodeller xml Project-files. This functionality can be used, for example, to change geological input parameters (e.g. dip of a fault) directly from the Python script.\n",
      "\n",
      "_________\n",
      "\n",
      "A note on installation:\n",
      "\n",
      "The most tricky part is to get the API properly installed, all libraries linked, and compiled on a system. On esim39, the required library path settings are defined in\n",
      "\n",
      "`adjust_to_jni.sh`\n",
      "\n",
      "Another important point (for now, should be fixed at some stage...) is that the shared object `libgeomod.so` has to be located in the current directory... time to write a proper make file, but to date that's the stage the project is in.\n",
      "\n",
      "_________\n",
      "\n",
      "\n",
      "We will first start here with an example for the generation of an rectilinear refined mesh for a simulation with SHEMAT.\n"
     ]
    },
    {
     "cell_type": "code",
     "collapsed": false,
     "input": [
      "# first step: import standard libraries and set pylab for plotting functionalities\n",
      "%pylab inline\n",
      "import numpy as np\n",
      "import matplotlib.pyplot as plt\n",
      "import sys, os"
     ],
     "language": "python",
     "metadata": {},
     "outputs": [
      {
       "output_type": "stream",
       "stream": "stdout",
       "text": [
        "\n",
        "Welcome to pylab, a matplotlib-based Python environment [backend: module://IPython.zmq.pylab.backend_inline].\n",
        "For more information, type 'help(pylab)'.\n"
       ]
      }
     ],
     "prompt_number": 2
    },
    {
     "cell_type": "code",
     "collapsed": false,
     "input": [
      "# Add path to pygeomod and import module (note: this is only required because it can't be installed properly at the moment)\n",
      "sys.path.append(r'/home/jni/git/tmp/pygeomod_tmp')\n",
      "import geogrid\n"
     ],
     "language": "python",
     "metadata": {},
     "outputs": [],
     "prompt_number": 24
    },
    {
     "cell_type": "markdown",
     "metadata": {},
     "source": [
      "Creating a regular grid\n",
      "----------\n",
      "\n",
      "The geogrid module contains a variety of methods to generate grids. In combinbation wtih Geomodeller, the easiest thing to do is to create a regular mesh from a Geomodeller \n",
      "project:"
     ]
    },
    {
     "cell_type": "code",
     "collapsed": false,
     "input": [
      "# Define path to geomodeller model file:\n",
      "geomodel = r'/home/jni/git/tmp/geomuce/gemuce_tmp/examples/simple_three_layer/simple_three_layer.xml'"
     ],
     "language": "python",
     "metadata": {},
     "outputs": [],
     "prompt_number": 25
    },
    {
     "cell_type": "code",
     "collapsed": false,
     "input": [
      "reload(geogrid) # only required for development stage - can be removed afterwards \n",
      "# Now: define a GeoGrid object:\n",
      "G1 = geogrid.GeoGrid()\n",
      "# and set the boundaries/ model extent according to the Geomodeller model:\n",
      "G1.get_dimensions_from_geomodeller_xml_project(geomodel)"
     ],
     "language": "python",
     "metadata": {},
     "outputs": [],
     "prompt_number": 251
    },
    {
     "cell_type": "code",
     "collapsed": false,
     "input": [
      "# and create a regular grid for a defined number of cells in each direction:\n",
      "nx = 25\n",
      "ny = 2\n",
      "nz = 25\n",
      "G1.define_regular_grid(nx, ny, nz)"
     ],
     "language": "python",
     "metadata": {},
     "outputs": [],
     "prompt_number": 252
    },
    {
     "cell_type": "code",
     "collapsed": false,
     "input": [
      "# ...and, finally, update the grid properties on the base of the Geomodeller model:\n",
      "G1.update_from_geomodeller_project(geomodel)"
     ],
     "language": "python",
     "metadata": {},
     "outputs": [],
     "prompt_number": 253
    },
    {
     "cell_type": "markdown",
     "metadata": {},
     "source": [
      "The grid is stored in the object variable `G1.grid` as a numpy array. "
     ]
    },
    {
     "cell_type": "code",
     "collapsed": false,
     "input": [
      "type(G1.grid)"
     ],
     "language": "python",
     "metadata": {},
     "outputs": [
      {
       "metadata": {},
       "output_type": "pyout",
       "prompt_number": 254,
       "text": [
        "numpy.ndarray"
       ]
      }
     ],
     "prompt_number": 254
    },
    {
     "cell_type": "markdown",
     "metadata": {},
     "source": [
      "So the grid can directly be used to create slices, plots, further caluclations, etc. However, a lot of functionality is alread implemented in the geogrid package. For example, slice plots through the model can simply be generated with:"
     ]
    },
    {
     "cell_type": "code",
     "collapsed": false,
     "input": [
      "G1.plot_section('y', colorbar=False, cmap='RdBu') # more plotting options possible, generally following the logic of matplotlibs imshow function\n"
     ],
     "language": "python",
     "metadata": {},
     "outputs": [
      {
       "metadata": {},
       "output_type": "display_data",
       "png": "[encoded data removed]"
      }
     ],
     "prompt_number": 255
    },
    {
     "cell_type": "markdown",
     "metadata": {},
     "source": [
      "It is also possible to export the model directly to VTK - however, this requires an installation of the pyevtk package which is not installed on esim for now:"
     ]
    },
    {
     "cell_type": "code",
     "collapsed": false,
     "input": [
      "G1.export_to_vtk()"
     ],
     "language": "python",
     "metadata": {},
     "outputs": [
      {
       "ename": "ImportError",
       "evalue": "No module named evtk.hl",
       "output_type": "pyerr",
       "traceback": [
        "\u001b[1;31m---------------------------------------------------------------------------\u001b[0m\n\u001b[1;31mImportError\u001b[0m                               Traceback (most recent call last)",
        "\u001b[1;32m<ipython-input-71-972ad06a1420>\u001b[0m in \u001b[0;36m<module>\u001b[1;34m()\u001b[0m\n\u001b[1;32m----> 1\u001b[1;33m \u001b[0mG1\u001b[0m\u001b[1;33m.\u001b[0m\u001b[0mexport_to_vtk\u001b[0m\u001b[1;33m(\u001b[0m\u001b[1;33m)\u001b[0m\u001b[1;33m\u001b[0m\u001b[0m\n\u001b[0m",
        "\u001b[1;32m/home/jni/git/tmp/pygeomod_tmp/geogrid.py\u001b[0m in \u001b[0;36mexport_to_vtk\u001b[1;34m(self, vtk_filename, real_coords, **kwds)\u001b[0m\n\u001b[0;32m    327\u001b[0m         \u001b[0mgrid\u001b[0m \u001b[1;33m=\u001b[0m \u001b[0mkwds\u001b[0m\u001b[1;33m.\u001b[0m\u001b[0mget\u001b[0m\u001b[1;33m(\u001b[0m\u001b[1;34m\"grid\"\u001b[0m\u001b[1;33m,\u001b[0m \u001b[0mself\u001b[0m\u001b[1;33m.\u001b[0m\u001b[0mgrid\u001b[0m\u001b[1;33m)\u001b[0m\u001b[1;33m\u001b[0m\u001b[0m\n\u001b[0;32m    328\u001b[0m         \u001b[0mvar_name\u001b[0m \u001b[1;33m=\u001b[0m \u001b[0mkwds\u001b[0m\u001b[1;33m.\u001b[0m\u001b[0mget\u001b[0m\u001b[1;33m(\u001b[0m\u001b[1;34m\"var_name\"\u001b[0m\u001b[1;33m,\u001b[0m \u001b[1;34m\"Geology\"\u001b[0m\u001b[1;33m)\u001b[0m\u001b[1;33m\u001b[0m\u001b[0m\n\u001b[1;32m--> 329\u001b[1;33m         \u001b[1;32mfrom\u001b[0m \u001b[0mevtk\u001b[0m\u001b[1;33m.\u001b[0m\u001b[0mhl\u001b[0m \u001b[1;32mimport\u001b[0m \u001b[0mgridToVTK\u001b[0m\u001b[1;33m\u001b[0m\u001b[0m\n\u001b[0m\u001b[0;32m    330\u001b[0m         \u001b[1;31m# define coordinates\u001b[0m\u001b[1;33m\u001b[0m\u001b[1;33m\u001b[0m\u001b[0m\n\u001b[0;32m    331\u001b[0m         \u001b[0mx\u001b[0m \u001b[1;33m=\u001b[0m \u001b[0mnp\u001b[0m\u001b[1;33m.\u001b[0m\u001b[0mzeros\u001b[0m\u001b[1;33m(\u001b[0m\u001b[0mself\u001b[0m\u001b[1;33m.\u001b[0m\u001b[0mnx\u001b[0m \u001b[1;33m+\u001b[0m \u001b[1;36m1\u001b[0m\u001b[1;33m)\u001b[0m\u001b[1;33m\u001b[0m\u001b[0m\n",
        "\u001b[1;31mImportError\u001b[0m: No module named evtk.hl"
       ]
      }
     ],
     "prompt_number": 71
    },
    {
     "cell_type": "markdown",
     "metadata": {},
     "source": [
      "Rectilinear grids\n",
      "---------\n",
      "\n",
      "Creating a rectilinear grid requires only that the cell spacings are explicitly defined. Everything else is exactly the same as before. Note that it is (at the moment) your responsibility to assing proper spacings - if you go beyond the bounds of the Geomodel, the function will not crash, but return the standard Geomodeller \"out\" value (usually the number of stratigraphic units + 1).\n",
      "\n",
      "One way to create meshes in the correct range is, of course, to use the extent of the Geomodel, determined with the function:\n",
      "\n",
      "\n"
     ]
    },
    {
     "cell_type": "code",
     "collapsed": false,
     "input": [
      "reload(geogrid) # only required for development stage - can be removed afterwards \n",
      "# Now: define a GeoGrid object:\n",
      "G1 = geogrid.GeoGrid()\n",
      "# and set the boundaries/ model extent according to the Geomodeller model:\n",
      "G1.get_dimensions_from_geomodeller_xml_project(geomodel)"
     ],
     "language": "python",
     "metadata": {},
     "outputs": [],
     "prompt_number": 265
    },
    {
     "cell_type": "code",
     "collapsed": false,
     "input": [
      "# The extent of the Geomodeller model can be obtained with:\n",
      "G1.xmin, G1.xmax"
     ],
     "language": "python",
     "metadata": {},
     "outputs": [
      {
       "metadata": {},
       "output_type": "pyout",
       "prompt_number": 266,
       "text": [
        "(0, 1000)"
       ]
      }
     ],
     "prompt_number": 266
    },
    {
     "cell_type": "code",
     "collapsed": false,
     "input": [
      "# and the extent with:\n",
      "G1.extent_x"
     ],
     "language": "python",
     "metadata": {},
     "outputs": [
      {
       "metadata": {},
       "output_type": "pyout",
       "prompt_number": 267,
       "text": [
        "1000"
       ]
      }
     ],
     "prompt_number": 267
    },
    {
     "cell_type": "markdown",
     "metadata": {},
     "source": [
      "Let's be a bit fancy and create the horizontal (x,y) grid with a core region of high refinement and increasing mesh sizes towards the boundary. First, we define the geometry:"
     ]
    },
    {
     "cell_type": "code",
     "collapsed": false,
     "input": [
      "core_region = 100 # m\n",
      "# define cell width in core region:\n",
      "cell_width_core = 25 # m\n",
      "del_core = np.ones(int(core_region / cell_width_core)) * cell_width_core\n",
      "# and the number of cells in the boundary regions (the innermost cell has the size of the core cells):\n",
      "n_boundary = 10\n",
      "# now determine the boundary width on both sides of the core region:\n",
      "width_boundary_x = (G1.extent_x - core_region) / 2. \n",
      "width_boundary_y = (G1.extent_y - core_region) / 2."
     ],
     "language": "python",
     "metadata": {},
     "outputs": [],
     "prompt_number": 268
    },
    {
     "cell_type": "markdown",
     "metadata": {},
     "source": [
      "A little helper function in the `geogrid` package can be used to determine an optimal cell increase factor for the boundary cells for a given width an a number of cells, and a fixed inner cell width which we take as the width of the core cells for a neat transition:"
     ]
    },
    {
     "cell_type": "code",
     "collapsed": false,
     "input": [
      "dx_boundary = geogrid.optimial_cell_increase(cell_width_core, n_boundary, width_boundary_x)\n",
      "dy_boundary = geogrid.optimial_cell_increase(cell_width_core, n_boundary, width_boundary_y)"
     ],
     "language": "python",
     "metadata": {},
     "outputs": [],
     "prompt_number": 269
    },
    {
     "cell_type": "markdown",
     "metadata": {},
     "source": [
      "We now simply combine the boundary and core cells for the complete discretisation array:"
     ]
    },
    {
     "cell_type": "code",
     "collapsed": false,
     "input": [
      "delx = np.concatenate((dx_boundary[::-1], del_core, dx_boundary)) # first array reversed from large to small cells\n",
      "dely = np.concatenate((dy_boundary[::-1], del_core, dy_boundary))"
     ],
     "language": "python",
     "metadata": {},
     "outputs": [],
     "prompt_number": 270
    },
    {
     "cell_type": "markdown",
     "metadata": {},
     "source": [
      "A plot of the grid:"
     ]
    },
    {
     "cell_type": "code",
     "collapsed": false,
     "input": [
      "fig = plt.figure(figsize = (8,8))\n",
      "ax = fig.add_subplot(111)\n",
      "for dx in np.cumsum(delx):\n",
      "    ax.axvline(dx, color = 'k')\n",
      "for dy in np.cumsum(dely):\n",
      "    ax.axhline(dy, color = 'k')\n",
      "\n",
      "ax.set_xlim((0,sum(delx)))\n",
      "ax.set_ylim((0,sum(dely)))"
     ],
     "language": "python",
     "metadata": {},
     "outputs": [
      {
       "metadata": {},
       "output_type": "pyout",
       "prompt_number": 271,
       "text": [
        "(0, 999.99999999999864)"
       ]
      },
      {
       "metadata": {},
       "output_type": "display_data",
       "png": "[encoded data removed]"
      }
     ],
     "prompt_number": 271
    },
    {
     "cell_type": "markdown",
     "metadata": {},
     "source": [
      "In z-direction we will create a regular mesh:"
     ]
    },
    {
     "cell_type": "code",
     "collapsed": false,
     "input": [
      "nz = 20\n",
      "delz = np.ones(nz) * G1.extent_z / nz"
     ],
     "language": "python",
     "metadata": {},
     "outputs": [],
     "prompt_number": 272
    },
    {
     "cell_type": "markdown",
     "metadata": {},
     "source": [
      "Ok, back to the geogrid package: we now assign the cell discretisation arrays to the geogrid object and populate the grid with geology ids determined from the Geomodeller model:"
     ]
    },
    {
     "cell_type": "code",
     "collapsed": false,
     "input": [
      "G1.define_irregular_grid(delx, dely, delz)\n",
      "G1.update_from_geomodeller_project(geomodel)"
     ],
     "language": "python",
     "metadata": {},
     "outputs": [],
     "prompt_number": 273
    },
    {
     "cell_type": "code",
     "collapsed": false,
     "input": [
      "G1.grid"
     ],
     "language": "python",
     "metadata": {},
     "outputs": [
      {
       "metadata": {},
       "output_type": "pyout",
       "prompt_number": 274,
       "text": [
        "array([[[ 1.,  1.,  1., ...,  1.,  1.,  1.],\n",
        "        [ 1.,  1.,  1., ...,  1.,  1.,  1.],\n",
        "        [ 1.,  1.,  1., ...,  1.,  1.,  1.],\n",
        "        ..., \n",
        "        [ 1.,  1.,  1., ...,  1.,  1.,  1.],\n",
        "        [ 1.,  1.,  1., ...,  1.,  1.,  1.],\n",
        "        [ 1.,  1.,  1., ...,  1.,  1.,  1.]],\n",
        "\n",
        "       [[ 1.,  1.,  1., ...,  1.,  1.,  1.],\n",
        "        [ 1.,  1.,  1., ...,  1.,  1.,  1.],\n",
        "        [ 1.,  1.,  1., ...,  1.,  1.,  1.],\n",
        "        ..., \n",
        "        [ 1.,  1.,  1., ...,  1.,  1.,  1.],\n",
        "        [ 1.,  1.,  1., ...,  1.,  1.,  1.],\n",
        "        [ 1.,  1.,  1., ...,  1.,  1.,  1.]],\n",
        "\n",
        "       [[ 1.,  1.,  1., ...,  1.,  1.,  1.],\n",
        "        [ 1.,  1.,  1., ...,  1.,  1.,  1.],\n",
        "        [ 1.,  1.,  1., ...,  1.,  1.,  1.],\n",
        "        ..., \n",
        "        [ 1.,  1.,  1., ...,  1.,  1.,  1.],\n",
        "        [ 1.,  1.,  1., ...,  1.,  1.,  1.],\n",
        "        [ 1.,  1.,  1., ...,  1.,  1.,  1.]],\n",
        "\n",
        "       ..., \n",
        "       [[ 1.,  1.,  1., ...,  3.,  3.,  3.],\n",
        "        [ 1.,  1.,  1., ...,  3.,  3.,  3.],\n",
        "        [ 1.,  1.,  1., ...,  3.,  3.,  3.],\n",
        "        ..., \n",
        "        [ 1.,  1.,  1., ...,  3.,  3.,  3.],\n",
        "        [ 1.,  1.,  1., ...,  3.,  3.,  3.],\n",
        "        [ 1.,  1.,  1., ...,  3.,  3.,  3.]],\n",
        "\n",
        "       [[ 1.,  1.,  1., ...,  3.,  3.,  3.],\n",
        "        [ 1.,  1.,  1., ...,  3.,  3.,  3.],\n",
        "        [ 1.,  1.,  1., ...,  3.,  3.,  3.],\n",
        "        ..., \n",
        "        [ 1.,  1.,  1., ...,  3.,  3.,  3.],\n",
        "        [ 1.,  1.,  1., ...,  3.,  3.,  3.],\n",
        "        [ 1.,  1.,  1., ...,  3.,  3.,  3.]],\n",
        "\n",
        "       [[ 1.,  1.,  1., ...,  3.,  3.,  3.],\n",
        "        [ 1.,  1.,  1., ...,  3.,  3.,  3.],\n",
        "        [ 1.,  1.,  1., ...,  3.,  3.,  3.],\n",
        "        ..., \n",
        "        [ 1.,  1.,  1., ...,  3.,  3.,  3.],\n",
        "        [ 1.,  1.,  1., ...,  3.,  3.,  3.],\n",
        "        [ 1.,  1.,  1., ...,  3.,  3.,  3.]]])"
       ]
      }
     ],
     "prompt_number": 274
    },
    {
     "cell_type": "markdown",
     "metadata": {},
     "source": [
      "The simple plotting functions don't work for irregular/ rectilinear grids at to date (as imshow can only plot regular grids). Export to VTK would work, in principle.\n",
      "\n",
      "What we can do, however, is create a SHEMAT nml file (for the old SHEMAT version) directly from the grid:"
     ]
    },
    {
     "cell_type": "code",
     "collapsed": false,
     "input": [
      "sys.path.append(r'/home/jni/git/tmp/PySHEMAT/PySHEMAT-master')\n",
      "import PySHEMAT"
     ],
     "language": "python",
     "metadata": {},
     "outputs": [],
     "prompt_number": 220
    },
    {
     "cell_type": "code",
     "collapsed": false,
     "input": [
      "S1 = PySHEMAT.Shemat_file(from_geogrid = G1, nml_filename = 'updated_model.nml')"
     ],
     "language": "python",
     "metadata": {},
     "outputs": [
      {
       "output_type": "stream",
       "stream": "stdout",
       "text": [
        "create empty file\n"
       ]
      }
     ],
     "prompt_number": 226
    }
   ],
   "metadata": {}
  }
 ]
}