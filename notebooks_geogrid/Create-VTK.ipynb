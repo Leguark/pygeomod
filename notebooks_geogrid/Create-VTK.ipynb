{
 "metadata": {
  "name": "",
  "signature": "sha256:095c28aa4c57905d8a4a3a93a3f4677f6772645bcf4330449c6b4400d8b416cb"
 },
 "nbformat": 3,
 "nbformat_minor": 0,
 "worksheets": [
  {
   "cells": [
    {
     "cell_type": "markdown",
     "metadata": {},
     "source": [
      "Create a VTK file for 3D visualisation\n",
      "======================================\n",
      "\n",
      "Geogrid objects can be exported to VTK fiels for visualisation in 3-D in any of the (free) VTK viewers (e.g. Paraview, Mayavi, Visit). The VTK export requires a running installation of the Python vtk package (can be a headache to install...) and the higher-level functions provided by evtk (available on: https://bitbucket.org/pauloh/pyevtk).\n",
      "\n",
      "We start here with a geogrid from a pickled file and export it to VTK:"
     ]
    },
    {
     "cell_type": "code",
     "collapsed": false,
     "input": [
      "import os\n",
      "import sys\n",
      "# as long as not in Pythonpath, we have to set directory:\n",
      "sys.path.append(r'/Users/flow/git/pygeomod')\n",
      "import geogrid\n",
      "import pickle"
     ],
     "language": "python",
     "metadata": {},
     "outputs": [],
     "prompt_number": 13
    },
    {
     "cell_type": "code",
     "collapsed": false,
     "input": [
      "import numpy as np"
     ],
     "language": "python",
     "metadata": {},
     "outputs": [],
     "prompt_number": 14
    },
    {
     "cell_type": "code",
     "collapsed": false,
     "input": [
      "reload(geogrid)\n",
      "# load geogrid from pickled file\n",
      "G1 = pickle.load(open(r'/Users/flow/Documents/02_work/01_own_docs/02_papers/GeoResJ/SPB_diffgrid_hres.pkl', 'r'))"
     ],
     "language": "python",
     "metadata": {},
     "outputs": [],
     "prompt_number": 27
    },
    {
     "cell_type": "code",
     "collapsed": false,
     "input": [
      "# export to VTK\n",
      "G1.export_to_vtk(vtk_filename = \"SPB_Diff\",\n",
      "                 real_coords = True,\n",
      "                 var_name = \"Stratigraphic Distance\")"
     ],
     "language": "python",
     "metadata": {},
     "outputs": [],
     "prompt_number": 16
    },
    {
     "cell_type": "markdown",
     "metadata": {},
     "source": [
      "That's it!"
     ]
    },
    {
     "cell_type": "code",
     "collapsed": false,
     "input": [
      "print os.getcwd()"
     ],
     "language": "python",
     "metadata": {},
     "outputs": [
      {
       "output_type": "stream",
       "stream": "stdout",
       "text": [
        "/Users/flow/git/github/pygeomod/notebooks\n"
       ]
      }
     ],
     "prompt_number": 4
    },
    {
     "cell_type": "code",
     "collapsed": false,
     "input": [
      "G1.delx"
     ],
     "language": "python",
     "metadata": {},
     "outputs": [
      {
       "metadata": {},
       "output_type": "pyout",
       "prompt_number": 5,
       "text": [
        "array([ 1560.,  1560.,  1560.,  1560.,  1560.,  1560.,  1560.,  1560.,\n",
        "        1560.,  1560.,  1560.,  1560.,  1560.,  1560.,  1560.,  1560.,\n",
        "        1560.,  1560.,  1560.,  1560.,  1560.,  1560.,  1560.,  1560.,\n",
        "        1560.,  1560.,  1560.,  1560.,  1560.,  1560.,  1560.,  1560.,\n",
        "        1560.,  1560.,  1560.,  1560.,  1560.,  1560.,  1560.,  1560.,\n",
        "        1560.,  1560.,  1560.,  1560.,  1560.,  1560.,  1560.,  1560.,\n",
        "        1560.,  1560.,  1560.,  1560.,  1560.,  1560.,  1560.,  1560.,\n",
        "        1560.,  1560.,  1560.,  1560.,  1560.,  1560.,  1560.,  1560.,\n",
        "        1560.,  1560.,  1560.,  1560.,  1560.,  1560.,  1560.,  1560.,\n",
        "        1560.,  1560.,  1560.,  1560.,  1560.,  1560.,  1560.,  1560.,\n",
        "        1560.,  1560.,  1560.,  1560.,  1560.,  1560.,  1560.,  1560.,\n",
        "        1560.,  1560.,  1560.,  1560.,  1560.,  1560.,  1560.,  1560.,\n",
        "        1560.,  1560.,  1560.,  1560.])"
       ]
      }
     ],
     "prompt_number": 5
    },
    {
     "cell_type": "code",
     "collapsed": false,
     "input": [
      "np.shape(G1.grid)"
     ],
     "language": "python",
     "metadata": {},
     "outputs": [
      {
       "metadata": {},
       "output_type": "pyout",
       "prompt_number": 8,
       "text": [
        "(100, 100, 100)"
       ]
      }
     ],
     "prompt_number": 8
    },
    {
     "cell_type": "code",
     "collapsed": false,
     "input": [
      "tmp = geogrid.GeoGrid()"
     ],
     "language": "python",
     "metadata": {},
     "outputs": [],
     "prompt_number": 12
    },
    {
     "cell_type": "code",
     "collapsed": false,
     "input": [
      "reload(geogrid)"
     ],
     "language": "python",
     "metadata": {},
     "outputs": [
      {
       "metadata": {},
       "output_type": "pyout",
       "prompt_number": 24,
       "text": [
        "<module 'geogrid' from '/Users/flow/git/pygeomod/geogrid.py'>"
       ]
      }
     ],
     "prompt_number": 24
    },
    {
     "cell_type": "code",
     "collapsed": false,
     "input": [
      "reload(geogrid)\n",
      "# load geogrid from pickled file\n",
      "G1 = pickle.load(open(r'/Users/flow/Documents/02_work/01_own_docs/02_papers/GeoResJ/SPB_diffgrid_hres.pkl', 'r'))\n",
      "G1.export_to_csv()"
     ],
     "language": "python",
     "metadata": {},
     "outputs": [],
     "prompt_number": 33
    },
    {
     "cell_type": "code",
     "collapsed": false,
     "input": [
      "print os.getcwd()"
     ],
     "language": "python",
     "metadata": {},
     "outputs": [
      {
       "output_type": "stream",
       "stream": "stdout",
       "text": [
        "/Users/flow/git/github/pygeomod/notebooks\n"
       ]
      }
     ],
     "prompt_number": 23
    },
    {
     "cell_type": "code",
     "collapsed": false,
     "input": [
      "G1.grid[50,50,0]"
     ],
     "language": "python",
     "metadata": {},
     "outputs": [
      {
       "metadata": {},
       "output_type": "pyout",
       "prompt_number": 32,
       "text": [
        "0.0"
       ]
      }
     ],
     "prompt_number": 32
    },
    {
     "cell_type": "code",
     "collapsed": false,
     "input": [],
     "language": "python",
     "metadata": {},
     "outputs": []
    }
   ],
   "metadata": {}
  }
 ]
}