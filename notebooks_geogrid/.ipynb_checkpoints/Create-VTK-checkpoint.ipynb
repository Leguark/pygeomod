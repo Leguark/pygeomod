{
 "metadata": {
  "name": "",
  "signature": "sha256:8e5845a030dd8263975e0af56851765884583d61e563329830e6b8260a86d34a"
 },
 "nbformat": 3,
 "nbformat_minor": 0,
 "worksheets": [
  {
   "cells": [
    {
     "cell_type": "markdown",
     "metadata": {},
     "source": [
      "Create a VTK file for 3D visualisation\n",
      "======================================\n",
      "\n",
      "Geogrid objects can be exported to VTK fiels for visualisation in 3-D in any of the (free) VTK viewers (e.g. Paraview, Mayavi, Visit). The VTK export requires a running installation of the Python vtk package (can be a headache to install...) and the higher-level functions provided by evtk (available on: https://bitbucket.org/pauloh/pyevtk).\n",
      "\n",
      "We start here with a geogrid from a pickled file and export it to VTK:"
     ]
    },
    {
     "cell_type": "code",
     "collapsed": false,
     "input": [
      "import os\n",
      "import sys\n",
      "# as long as not in Pythonpath, we have to set directory:\n",
      "sys.path.append(r'/Users/flow/git/pygeomod')\n",
      "import geogrid\n",
      "import pickle"
     ],
     "language": "python",
     "metadata": {},
     "outputs": [],
     "prompt_number": 3
    },
    {
     "cell_type": "code",
     "collapsed": false,
     "input": [
      "# load geogrid from pickled file\n",
      "G1 = pickle.load(open(r'/Users/flow/Documents/02_work/10_Geomodels/05_PB/PB_combined/exported_grids/PB_comb_geogrid_lres.pkl', 'r'))"
     ],
     "language": "python",
     "metadata": {},
     "outputs": [],
     "prompt_number": 6
    },
    {
     "cell_type": "code",
     "collapsed": false,
     "input": [
      "# export to VTK\n",
      "G1.export_to_vtk(vtk_filename = \"PB_comb\",\n",
      "                 real_coords = True,\n",
      "                 var_name = \"Geological Units\")"
     ],
     "language": "python",
     "metadata": {},
     "outputs": [],
     "prompt_number": 9
    },
    {
     "cell_type": "markdown",
     "metadata": {},
     "source": [
      "That's it!"
     ]
    },
    {
     "cell_type": "code",
     "collapsed": false,
     "input": [],
     "language": "python",
     "metadata": {},
     "outputs": []
    }
   ],
   "metadata": {}
  }
 ]
}