{
 "metadata": {
  "name": "",
  "signature": "sha256:8289b3dd7430c8414a72b547f891b1468355573ccc8b3c3db5de00a1ca677805"
 },
 "nbformat": 3,
 "nbformat_minor": 0,
 "worksheets": []
}