{
 "metadata": {
  "name": "",
  "signature": "sha256:fe3b568e0f4de2ace8294221d38b03a05eedd93445ebaa74e1b6e8c303fb68b9"
 },
 "nbformat": 3,
 "nbformat_minor": 0,
 "worksheets": [
  {
   "cells": [
    {
     "cell_type": "markdown",
     "metadata": {},
     "source": [
      "Open a geogrid and export to VTK\n",
      "==========="
     ]
    },
    {
     "cell_type": "code",
     "collapsed": false,
     "input": [
      "import os, os.path\n",
      "import sys\n",
      "import pickle\n",
      "# as long as not in Pythonpath, we have to set directory:\n",
      "sys.path.append(r'/Users/flow/git/pygeomod')\n",
      "sys.path.append(r'/Users/flow/git/PySHEMAT/')\n",
      "import PySHEMAT as PS\n",
      "import geogrid"
     ],
     "language": "python",
     "metadata": {},
     "outputs": [],
     "prompt_number": 1
    },
    {
     "cell_type": "code",
     "collapsed": false,
     "input": [],
     "language": "python",
     "metadata": {},
     "outputs": []
    }
   ],
   "metadata": {}
  }
 ]
}