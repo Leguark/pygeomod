{
 "metadata": {
  "name": "",
  "signature": "sha256:ce7de019211c289a952bac823152a18187142432c7a843a13e2071e317b274ad"
 },
 "nbformat": 3,
 "nbformat_minor": 0,
 "worksheets": [
  {
   "cells": [
    {
     "cell_type": "markdown",
     "metadata": {},
     "source": [
      "From geogrid to SHEMAT\n",
      "======================\n",
      "\n",
      "Create an input file for process simulations with SHEMAT with spatial property distributions according to the geological units defined in a `geogrid` object.\n",
      "\n",
      "The methods shown here require the Python package PySHEMAT to be installed. It is available on:\n",
      "\n",
      "https://github.com/flohorovicic/PySHEMAT\n",
      "\n",
      "For the sake of simplicity, we will load a geogrid object from a pickled file and create a SHEMAT input file on its basis."
     ]
    },
    {
     "cell_type": "code",
     "collapsed": false,
     "input": [
      "import os, os.path\n",
      "import sys\n",
      "import pickle\n",
      "# as long as not in Pythonpath, we have to set directory:\n",
      "sys.path.append(r'/Users/flow/git/pygeomod')\n",
      "sys.path.append(r'/Users/flow/git/PySHEMAT/')\n",
      "import PySHEMAT as PS\n",
      "import geogrid"
     ],
     "language": "python",
     "metadata": {},
     "outputs": [],
     "prompt_number": 5
    },
    {
     "cell_type": "code",
     "collapsed": false,
     "input": [
      "# path to pickled geogrid file\n",
      "os.chdir(r'/Users/flow/Documents/02_work/10_Geomodels/05_PB/PB_combined/exported_grids')"
     ],
     "language": "python",
     "metadata": {},
     "outputs": [],
     "prompt_number": 7
    },
    {
     "cell_type": "code",
     "collapsed": false,
     "input": [
      "G1 = pickle.load(open('PB_comb_geogrid_lres.pkl'))"
     ],
     "language": "python",
     "metadata": {},
     "outputs": [],
     "prompt_number": 8
    },
    {
     "cell_type": "code",
     "collapsed": false,
     "input": [
      "# File with properties for SHEMAT simulation:\n",
      "property_file = 'CentralPerthBasin_shallow_properties.csv'"
     ],
     "language": "python",
     "metadata": {},
     "outputs": [],
     "prompt_number": 11
    },
    {
     "cell_type": "code",
     "collapsed": false,
     "input": [
      "S1 = PS.create_empty_model(from_geogrid = G1, \n",
      "                           topt = 'TEMP',\n",
      "                           baset = 'WSD',\n",
      "                           basal_heat_flux = 0.025,\n",
      "                           thermal_cond_function_of_temp = True,\n",
      "                           update_from_property_file = True,\n",
      "                           geomodel_properties = property_file\n",
      "                           )"
     ],
     "language": "python",
     "metadata": {},
     "outputs": [
      {
       "output_type": "stream",
       "stream": "stdout",
       "text": [
        "create empty file\n",
        "get BCs and store in object variables"
       ]
      },
      {
       "output_type": "stream",
       "stream": "stdout",
       "text": [
        "\n",
        "read temperature boundary conditions\n",
        "read concentration boundary conditions\n",
        "read hydraulic head boundary conditions\n",
        "Write new SHEMAT file: shemat_empty_project.nml"
       ]
      },
      {
       "output_type": "stream",
       "stream": "stdout",
       "text": [
        "\n"
       ]
      }
     ],
     "prompt_number": 12
    },
    {
     "cell_type": "code",
     "collapsed": false,
     "input": [
      "# assign name of new SHEMAT file\n",
      "shemat_filename = \"PB_combined.nml\"\n",
      "S1.write_file(shemat_filename)\n",
      "# create control file\n",
      "PS.create_shemat_control_file(shemat_filename)"
     ],
     "language": "python",
     "metadata": {},
     "outputs": [
      {
       "output_type": "stream",
       "stream": "stdout",
       "text": [
        "Write new SHEMAT file: PB_combined.nml\n"
       ]
      }
     ],
     "prompt_number": 13
    },
    {
     "cell_type": "code",
     "collapsed": false,
     "input": [],
     "language": "python",
     "metadata": {},
     "outputs": []
    }
   ],
   "metadata": {}
  }
 ]
}